{
 "cells": [
  {
   "cell_type": "code",
   "execution_count": 1,
   "metadata": {},
   "outputs": [],
   "source": [
    "import re\n",
    "import tweepy\n",
    "from tweepy import OAuthHandler\n",
    "from textblob import TextBlob\n",
    "from matplotlib import pyplot as plt\n",
    "import numpy as np\n",
    "import pandas as pd"
   ]
  },
  {
   "cell_type": "code",
   "execution_count": 3,
   "metadata": {},
   "outputs": [],
   "source": [
    "consumer_key = 'wPB1Rsclt7YtKcPKFjWdbyeRN'\n",
    "consumer_secret = 'tsm67CihfQ65FMNqGNVkYmODLf4JlKW0LptnnzsRKtYmqZzoAd'\n",
    "access_token = '1096098583214993408-s3Mz8xPp8FMKDS3LVGrjTPYusx996V'\n",
    "access_token_secret = '8goJjN6EbMDr2kagUcq4cv0f6gBd2fF1hSjtynyXqDhJJ'\n",
    "\n",
    "try:\n",
    "    auth = OAuthHandler(consumer_key, consumer_secret)\n",
    "    auth.set_access_token(access_token, access_token_secret)\n",
    "    api = tweepy.API(auth)\n",
    "except:\n",
    "    print(\"Error: Authentication Failed\")"
   ]
  },
  {
   "cell_type": "code",
   "execution_count": null,
   "metadata": {},
   "outputs": [],
   "source": [
    "API Key :- wPB1Rsclt7YtKcPKFjWdbyeRN\n",
    "API secret key :- tsm67CihfQ65FMNqGNVkYmODLf4JlKW0LptnnzsRKtYmqZzoAd\n",
    "Bearer Token :- AAAAAAAAAAAAAAAAAAAAAI4bLQEAAAAArHsIFQ59Po%2FQwrsoSHu%2BVQ8FB3A%3DwtDUfSk7LulolMeJzdEn9owsKPmqHZraz96iez56Z7gms5FRif"
   ]
  },
  {
   "cell_type": "code",
   "execution_count": 4,
   "metadata": {},
   "outputs": [
    {
     "name": "stdout",
     "output_type": "stream",
     "text": [
      "------------------------------\n"
     ]
    }
   ],
   "source": [
    "print('-'*30)"
   ]
  },
  {
   "cell_type": "code",
   "execution_count": 4,
   "metadata": {},
   "outputs": [],
   "source": [
    "a = pd.Series(np.random.rand(100))"
   ]
  },
  {
   "cell_type": "code",
   "execution_count": 5,
   "metadata": {},
   "outputs": [
    {
     "data": {
      "text/plain": [
       "0     0.630657\n",
       "1     0.432370\n",
       "2     0.164767\n",
       "3     0.690913\n",
       "4     0.348159\n",
       "        ...   \n",
       "95    0.211524\n",
       "96    0.203833\n",
       "97    0.119720\n",
       "98    0.912717\n",
       "99    0.308699\n",
       "Length: 100, dtype: float64"
      ]
     },
     "execution_count": 5,
     "metadata": {},
     "output_type": "execute_result"
    }
   ],
   "source": [
    "a"
   ]
  },
  {
   "cell_type": "code",
   "execution_count": 8,
   "metadata": {},
   "outputs": [
    {
     "data": {
      "text/plain": [
       "(array([ 2., 14., 10., 11.,  8., 10., 12.,  7.,  9., 17.]),\n",
       " array([0.00523168, 0.10341768, 0.20160367, 0.29978966, 0.39797566,\n",
       "        0.49616165, 0.59434764, 0.69253363, 0.79071963, 0.88890562,\n",
       "        0.98709161]),\n",
       " <a list of 10 Patch objects>)"
      ]
     },
     "execution_count": 8,
     "metadata": {},
     "output_type": "execute_result"
    },
    {
     "data": {
      "image/png": "[encoded data removed]",
      "text/plain": [
       "<Figure size 432x288 with 1 Axes>"
      ]
     },
     "metadata": {
      "needs_background": "light"
     },
     "output_type": "display_data"
    }
   ],
   "source": [
    "plt.hist(a)"
   ]
  },
  {
   "cell_type": "code",
   "execution_count": null,
   "metadata": {},
   "outputs": [],
   "source": [
    "pd.re"
   ]
  }
 ],
 "metadata": {
  "kernelspec": {
   "display_name": "Python 3.8.3 32-bit",
   "language": "python",
   "name": "python38332bitd4d48570956f40eb8b8629c4d8fa132b"
  },
  "language_info": {
   "codemirror_mode": {
    "name": "ipython",
    "version": 3
   },
   "file_extension": ".py",
   "mimetype": "text/x-python",
   "name": "python",
   "nbconvert_exporter": "python",
   "pygments_lexer": "ipython3",
   "version": "3.8.3"
  }
 },
 "nbformat": 4,
 "nbformat_minor": 4
}
